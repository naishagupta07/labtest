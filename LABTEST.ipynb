{
 "cells": [
  {
   "cell_type": "code",
   "execution_count": 14,
   "id": "0be06a6b-8f55-4e72-8979-42f27907895d",
   "metadata": {},
   "outputs": [],
   "source": [
    "import numpy as np\n"
   ]
  },
  {
   "cell_type": "code",
   "execution_count": 15,
   "id": "3721719a-8aa3-4bed-aead-f71b5b1b85f4",
   "metadata": {},
   "outputs": [],
   "source": [
    "import matplotlib.pyplot as plt"
   ]
  },
  {
   "cell_type": "code",
   "execution_count": 27,
   "id": "6cfbd019-93fa-4fd8-9740-cae8eccf19be",
   "metadata": {},
   "outputs": [
    {
     "name": "stdout",
     "output_type": "stream",
     "text": [
      "[101 102 103 104 105]\n",
      "[10000 20000 30000 40000 50000]\n",
      "[1.  3.5 4.  2.  2.7]\n",
      "[20 28 25 15 10]\n"
     ]
    }
   ],
   "source": [
    "employee_codes = np.array([101,102,103,104,105])\n",
    "salaries = np.array([10000,20000,30000,40000,50000])\n",
    "performance = np.array([1,3.5,4,2,2.7])\n",
    "attendance = np.array([20,28,25,15,10])\n",
    "print(employee_codes)\n",
    "print(salaries)\n",
    "print(performance)\n",
    "print(attendance)"
   ]
  },
  {
   "cell_type": "code",
   "execution_count": 37,
   "id": "e196a92b-306f-4c3d-8655-c9152a95f33e",
   "metadata": {},
   "outputs": [],
   "source": [
    "def update_attendance(emp_code,new_attendance):\n",
    "    index = np.where(employee_codes == emp_code)[0][0]\n",
    "    attendance_index = new_attendance"
   ]
  },
  {
   "cell_type": "code",
   "execution_count": 19,
   "id": "439d27ce-fbd8-44d6-891b-6122983ad8b4",
   "metadata": {},
   "outputs": [],
   "source": [
    "def change_performance(emp_code,new_performance):\n",
    "    index = np.where(employee_codes == emp_codee)[0][0]\n",
    "    performance_index = new_performance"
   ]
  },
  {
   "cell_type": "code",
   "execution_count": 38,
   "id": "00999708-b537-404b-b227-53e2a627e260",
   "metadata": {},
   "outputs": [],
   "source": [
    "def salary_statistics():\n",
    "    avg_salary = np.mean(salaries)\n",
    "    max_salary = np.max(salaries)\n",
    "    min_salary = np.min(salaries)\n",
    "    return avg_salary, max_salary, min_salary"
   ]
  },
  {
   "cell_type": "code",
   "execution_count": null,
   "id": "a9fd0521-5078-41e7-8e4c-462163d4da1c",
   "metadata": {},
   "outputs": [],
   "source": [
    "update_attendance(102,20)"
   ]
  }
 ],
 "metadata": {
  "kernelspec": {
   "display_name": "Python 3 (ipykernel)",
   "language": "python",
   "name": "python3"
  },
  "language_info": {
   "codemirror_mode": {
    "name": "ipython",
    "version": 3
   },
   "file_extension": ".py",
   "mimetype": "text/x-python",
   "name": "python",
   "nbconvert_exporter": "python",
   "pygments_lexer": "ipython3",
   "version": "3.12.4"
  }
 },
 "nbformat": 4,
 "nbformat_minor": 5
}
